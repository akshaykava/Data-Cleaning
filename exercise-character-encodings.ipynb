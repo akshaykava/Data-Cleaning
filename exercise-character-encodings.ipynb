{
 "cells": [
  {
   "cell_type": "markdown",
   "id": "9c46b7d2",
   "metadata": {
    "papermill": {
     "duration": 0.015544,
     "end_time": "2021-07-14T14:57:49.223232",
     "exception": false,
     "start_time": "2021-07-14T14:57:49.207688",
     "status": "completed"
    },
    "tags": []
   },
   "source": [
    "**This notebook is an exercise in the [Data Cleaning](https://www.kaggle.com/learn/data-cleaning) course.  You can reference the tutorial at [this link](https://www.kaggle.com/alexisbcook/character-encodings).**\n",
    "\n",
    "---\n"
   ]
  },
  {
   "cell_type": "markdown",
   "id": "6caf6f3c",
   "metadata": {
    "papermill": {
     "duration": 0.013879,
     "end_time": "2021-07-14T14:57:49.253922",
     "exception": false,
     "start_time": "2021-07-14T14:57:49.240043",
     "status": "completed"
    },
    "tags": []
   },
   "source": [
    "In this exercise, you'll apply what you learned in the **Character encodings** tutorial.\n",
    "\n",
    "# Setup\n",
    "\n",
    "The questions below will give you feedback on your work. Run the following cell to set up the feedback system."
   ]
  },
  {
   "cell_type": "code",
   "execution_count": 1,
   "id": "8a05566b",
   "metadata": {
    "execution": {
     "iopub.execute_input": "2021-07-14T14:57:49.294474Z",
     "iopub.status.busy": "2021-07-14T14:57:49.293760Z",
     "iopub.status.idle": "2021-07-14T14:57:49.510973Z",
     "shell.execute_reply": "2021-07-14T14:57:49.511473Z",
     "shell.execute_reply.started": "2021-07-12T06:56:24.130672Z"
    },
    "papermill": {
     "duration": 0.24362,
     "end_time": "2021-07-14T14:57:49.511789",
     "exception": false,
     "start_time": "2021-07-14T14:57:49.268169",
     "status": "completed"
    },
    "tags": []
   },
   "outputs": [
    {
     "name": "stdout",
     "output_type": "stream",
     "text": [
      "Setup Complete\n"
     ]
    }
   ],
   "source": [
    "from learntools.core import binder\n",
    "binder.bind(globals())\n",
    "from learntools.data_cleaning.ex4 import *\n",
    "print(\"Setup Complete\")"
   ]
  },
  {
   "cell_type": "markdown",
   "id": "a59b97f7",
   "metadata": {
    "papermill": {
     "duration": 0.01427,
     "end_time": "2021-07-14T14:57:49.540858",
     "exception": false,
     "start_time": "2021-07-14T14:57:49.526588",
     "status": "completed"
    },
    "tags": []
   },
   "source": [
    "# Get our environment set up\n",
    "\n",
    "The first thing we'll need to do is load in the libraries we'll be using."
   ]
  },
  {
   "cell_type": "code",
   "execution_count": 2,
   "id": "f33cb4de",
   "metadata": {
    "execution": {
     "iopub.execute_input": "2021-07-14T14:57:49.575332Z",
     "iopub.status.busy": "2021-07-14T14:57:49.574633Z",
     "iopub.status.idle": "2021-07-14T14:57:49.578095Z",
     "shell.execute_reply": "2021-07-14T14:57:49.577493Z",
     "shell.execute_reply.started": "2021-07-12T06:56:27.768422Z"
    },
    "papermill": {
     "duration": 0.023124,
     "end_time": "2021-07-14T14:57:49.578259",
     "exception": false,
     "start_time": "2021-07-14T14:57:49.555135",
     "status": "completed"
    },
    "tags": []
   },
   "outputs": [],
   "source": [
    "# modules we'll use\n",
    "import pandas as pd\n",
    "import numpy as np\n",
    "\n",
    "# helpful character encoding module\n",
    "import chardet\n",
    "\n",
    "# set seed for reproducibility\n",
    "np.random.seed(0)"
   ]
  },
  {
   "cell_type": "markdown",
   "id": "80f88e44",
   "metadata": {
    "papermill": {
     "duration": 0.014191,
     "end_time": "2021-07-14T14:57:49.607165",
     "exception": false,
     "start_time": "2021-07-14T14:57:49.592974",
     "status": "completed"
    },
    "tags": []
   },
   "source": [
    "# 1) What are encodings?\n",
    "\n",
    "You're working with a dataset composed of bytes.  Run the code cell below to print a sample entry."
   ]
  },
  {
   "cell_type": "code",
   "execution_count": 3,
   "id": "423c44b9",
   "metadata": {
    "execution": {
     "iopub.execute_input": "2021-07-14T14:57:49.641569Z",
     "iopub.status.busy": "2021-07-14T14:57:49.640903Z",
     "iopub.status.idle": "2021-07-14T14:57:49.645324Z",
     "shell.execute_reply": "2021-07-14T14:57:49.644675Z",
     "shell.execute_reply.started": "2021-07-12T06:56:46.472905Z"
    },
    "papermill": {
     "duration": 0.023812,
     "end_time": "2021-07-14T14:57:49.645483",
     "exception": false,
     "start_time": "2021-07-14T14:57:49.621671",
     "status": "completed"
    },
    "tags": []
   },
   "outputs": [
    {
     "name": "stdout",
     "output_type": "stream",
     "text": [
      "b'\\xa7A\\xa6n'\n",
      "data type: <class 'bytes'>\n"
     ]
    }
   ],
   "source": [
    "sample_entry = b'\\xa7A\\xa6n'\n",
    "print(sample_entry)\n",
    "print('data type:', type(sample_entry))"
   ]
  },
  {
   "cell_type": "markdown",
   "id": "0774ec30",
   "metadata": {
    "papermill": {
     "duration": 0.015766,
     "end_time": "2021-07-14T14:57:49.676377",
     "exception": false,
     "start_time": "2021-07-14T14:57:49.660611",
     "status": "completed"
    },
    "tags": []
   },
   "source": [
    "You notice that it doesn't use the standard UTF-8 encoding. \n",
    "\n",
    "Use the next code cell to create a variable `new_entry` that changes the encoding from `\"big5-tw\"` to `\"utf-8\"`.  `new_entry` should have the bytes datatype."
   ]
  },
  {
   "cell_type": "code",
   "execution_count": 4,
   "id": "29508734",
   "metadata": {
    "execution": {
     "iopub.execute_input": "2021-07-14T14:57:49.716714Z",
     "iopub.status.busy": "2021-07-14T14:57:49.716074Z",
     "iopub.status.idle": "2021-07-14T14:57:49.721646Z",
     "shell.execute_reply": "2021-07-14T14:57:49.722199Z",
     "shell.execute_reply.started": "2021-07-12T07:02:09.853436Z"
    },
    "papermill": {
     "duration": 0.030907,
     "end_time": "2021-07-14T14:57:49.722407",
     "exception": false,
     "start_time": "2021-07-14T14:57:49.691500",
     "status": "completed"
    },
    "tags": []
   },
   "outputs": [
    {
     "data": {
      "application/javascript": [
       "parent.postMessage({\"jupyterEvent\": \"custom.exercise_interaction\", \"data\": {\"outcomeType\": 1, \"valueTowardsCompletion\": 0.3333333333333333, \"interactionType\": 1, \"questionType\": 1, \"questionId\": \"1_EncodingsIntro\", \"learnToolsVersion\": \"0.3.4\", \"failureMessage\": \"\", \"exceptionClass\": \"\", \"trace\": \"\"}}, \"*\")"
      ],
      "text/plain": [
       "<IPython.core.display.Javascript object>"
      ]
     },
     "metadata": {},
     "output_type": "display_data"
    },
    {
     "data": {
      "text/markdown": [
       "<span style=\"color:#33cc33\">Correct</span>"
      ],
      "text/plain": [
       "Correct"
      ]
     },
     "metadata": {},
     "output_type": "display_data"
    }
   ],
   "source": [
    "before = sample_entry.decode('big5-tw')\n",
    "new_entry = before.encode(\"utf-8\",errors='replace')\n",
    "type(new_entry)\n",
    "# Check your answer\n",
    "q1.check()"
   ]
  },
  {
   "cell_type": "code",
   "execution_count": 5,
   "id": "b1eb25da",
   "metadata": {
    "execution": {
     "iopub.execute_input": "2021-07-14T14:57:49.759477Z",
     "iopub.status.busy": "2021-07-14T14:57:49.758623Z",
     "iopub.status.idle": "2021-07-14T14:57:49.762864Z",
     "shell.execute_reply": "2021-07-14T14:57:49.763392Z",
     "shell.execute_reply.started": "2021-07-12T07:02:18.906102Z"
    },
    "papermill": {
     "duration": 0.025076,
     "end_time": "2021-07-14T14:57:49.763601",
     "exception": false,
     "start_time": "2021-07-14T14:57:49.738525",
     "status": "completed"
    },
    "tags": []
   },
   "outputs": [
    {
     "data": {
      "application/javascript": [
       "parent.postMessage({\"jupyterEvent\": \"custom.exercise_interaction\", \"data\": {\"interactionType\": 2, \"questionType\": 1, \"questionId\": \"1_EncodingsIntro\", \"learnToolsVersion\": \"0.3.4\", \"valueTowardsCompletion\": 0.0, \"failureMessage\": \"\", \"exceptionClass\": \"\", \"trace\": \"\", \"outcomeType\": 4}}, \"*\")"
      ],
      "text/plain": [
       "<IPython.core.display.Javascript object>"
      ]
     },
     "metadata": {},
     "output_type": "display_data"
    },
    {
     "data": {
      "text/markdown": [
       "<span style=\"color:#3366cc\">Hint:</span> Try using `.decode()` to get the string, then `.encode()` to get the bytes representation, encoded in UTF-8."
      ],
      "text/plain": [
       "Hint: Try using `.decode()` to get the string, then `.encode()` to get the bytes representation, encoded in UTF-8."
      ]
     },
     "metadata": {},
     "output_type": "display_data"
    }
   ],
   "source": [
    "# Lines below will give you a hint or solution code\n",
    "q1.hint()\n",
    "#q1.solution()"
   ]
  },
  {
   "cell_type": "markdown",
   "id": "95c8f419",
   "metadata": {
    "papermill": {
     "duration": 0.016499,
     "end_time": "2021-07-14T14:57:49.797604",
     "exception": false,
     "start_time": "2021-07-14T14:57:49.781105",
     "status": "completed"
    },
    "tags": []
   },
   "source": [
    "# 2) Reading in files with encoding problems\n",
    "\n",
    "Use the code cell below to read in this file at path `\"../input/fatal-police-shootings-in-the-us/PoliceKillingsUS.csv\"`.  \n",
    "\n",
    "Figure out what the correct encoding should be and read in the file to a DataFrame `police_killings`."
   ]
  },
  {
   "cell_type": "raw",
   "id": "634c0792",
   "metadata": {
    "papermill": {
     "duration": 0.017101,
     "end_time": "2021-07-14T14:57:49.832430",
     "exception": false,
     "start_time": "2021-07-14T14:57:49.815329",
     "status": "completed"
    },
    "tags": []
   },
   "source": []
  },
  {
   "cell_type": "code",
   "execution_count": 6,
   "id": "f204cb91",
   "metadata": {
    "execution": {
     "iopub.execute_input": "2021-07-14T14:57:49.875662Z",
     "iopub.status.busy": "2021-07-14T14:57:49.874950Z",
     "iopub.status.idle": "2021-07-14T14:57:49.906455Z",
     "shell.execute_reply": "2021-07-14T14:57:49.907039Z",
     "shell.execute_reply.started": "2021-07-12T07:10:11.408747Z"
    },
    "papermill": {
     "duration": 0.05784,
     "end_time": "2021-07-14T14:57:49.907247",
     "exception": false,
     "start_time": "2021-07-14T14:57:49.849407",
     "status": "completed"
    },
    "tags": []
   },
   "outputs": [
    {
     "data": {
      "application/javascript": [
       "parent.postMessage({\"jupyterEvent\": \"custom.exercise_interaction\", \"data\": {\"outcomeType\": 1, \"valueTowardsCompletion\": 0.3333333333333333, \"interactionType\": 1, \"questionType\": 1, \"questionId\": \"2_ReadIn\", \"learnToolsVersion\": \"0.3.4\", \"failureMessage\": \"\", \"exceptionClass\": \"\", \"trace\": \"\"}}, \"*\")"
      ],
      "text/plain": [
       "<IPython.core.display.Javascript object>"
      ]
     },
     "metadata": {},
     "output_type": "display_data"
    },
    {
     "data": {
      "text/markdown": [
       "<span style=\"color:#33cc33\">Correct</span>"
      ],
      "text/plain": [
       "Correct"
      ]
     },
     "metadata": {},
     "output_type": "display_data"
    }
   ],
   "source": [
    "# TODO: Load in the DataFrame correctly.\n",
    "police_killings = pd.read_csv(\"../input/fatal-police-shootings-in-the-us/PoliceKillingsUS.csv\",encoding='Windows-1252')\n",
    "# Check your answer\n",
    "q2.check()"
   ]
  },
  {
   "cell_type": "markdown",
   "id": "1200e5ff",
   "metadata": {
    "papermill": {
     "duration": 0.018587,
     "end_time": "2021-07-14T14:57:49.946838",
     "exception": false,
     "start_time": "2021-07-14T14:57:49.928251",
     "status": "completed"
    },
    "tags": []
   },
   "source": [
    "Feel free to use any additional code cells for supplemental work.  To get credit for finishing this question, you'll need to run `q2.check()` and get a result of **Correct**."
   ]
  },
  {
   "cell_type": "code",
   "execution_count": 7,
   "id": "a83b39cb",
   "metadata": {
    "execution": {
     "iopub.execute_input": "2021-07-14T14:57:49.989917Z",
     "iopub.status.busy": "2021-07-14T14:57:49.988903Z",
     "iopub.status.idle": "2021-07-14T14:57:49.997448Z",
     "shell.execute_reply": "2021-07-14T14:57:49.996920Z",
     "shell.execute_reply.started": "2021-07-12T07:09:33.042896Z"
    },
    "papermill": {
     "duration": 0.030094,
     "end_time": "2021-07-14T14:57:49.997628",
     "exception": false,
     "start_time": "2021-07-14T14:57:49.967534",
     "status": "completed"
    },
    "tags": []
   },
   "outputs": [
    {
     "name": "stdout",
     "output_type": "stream",
     "text": [
      "{'encoding': 'ascii', 'confidence': 1.0, 'language': ''}\n"
     ]
    }
   ],
   "source": [
    "# (Optional) Use this code cell for any additional work.\n",
    "with open(\"../input/fatal-police-shootings-in-the-us/PoliceKillingsUS.csv\", 'rb') as data:\n",
    "    result = chardet.detect(data.read(100))\n",
    "\n",
    "# check what the character encoding might be\n",
    "print(result)"
   ]
  },
  {
   "cell_type": "code",
   "execution_count": 8,
   "id": "19a9b92c",
   "metadata": {
    "execution": {
     "iopub.execute_input": "2021-07-14T14:57:50.040210Z",
     "iopub.status.busy": "2021-07-14T14:57:50.039441Z",
     "iopub.status.idle": "2021-07-14T14:57:50.043512Z",
     "shell.execute_reply": "2021-07-14T14:57:50.044092Z",
     "shell.execute_reply.started": "2021-07-12T07:06:34.198723Z"
    },
    "papermill": {
     "duration": 0.028103,
     "end_time": "2021-07-14T14:57:50.044295",
     "exception": false,
     "start_time": "2021-07-14T14:57:50.016192",
     "status": "completed"
    },
    "tags": []
   },
   "outputs": [
    {
     "data": {
      "application/javascript": [
       "parent.postMessage({\"jupyterEvent\": \"custom.exercise_interaction\", \"data\": {\"interactionType\": 3, \"questionType\": 1, \"questionId\": \"2_ReadIn\", \"learnToolsVersion\": \"0.3.4\", \"valueTowardsCompletion\": 0.0, \"failureMessage\": \"\", \"exceptionClass\": \"\", \"trace\": \"\", \"outcomeType\": 4}}, \"*\")"
      ],
      "text/plain": [
       "<IPython.core.display.Javascript object>"
      ]
     },
     "metadata": {},
     "output_type": "display_data"
    },
    {
     "data": {
      "text/markdown": [
       "<span style=\"color:#33cc99\">Solution:</span> \n",
       "```python\n",
       "police_killings = pd.read_csv(\"../input/fatal-police-shootings-in-the-us/PoliceKillingsUS.csv\", encoding='Windows-1252')\n",
       "\n",
       "```"
      ],
      "text/plain": [
       "Solution: \n",
       "```python\n",
       "police_killings = pd.read_csv(\"../input/fatal-police-shootings-in-the-us/PoliceKillingsUS.csv\", encoding='Windows-1252')\n",
       "\n",
       "```"
      ]
     },
     "metadata": {},
     "output_type": "display_data"
    }
   ],
   "source": [
    "# Lines below will give you a hint or solution code\n",
    "#q2.hint()\n",
    "q2.solution()"
   ]
  },
  {
   "cell_type": "markdown",
   "id": "aae59e41",
   "metadata": {
    "papermill": {
     "duration": 0.01898,
     "end_time": "2021-07-14T14:57:50.083030",
     "exception": false,
     "start_time": "2021-07-14T14:57:50.064050",
     "status": "completed"
    },
    "tags": []
   },
   "source": [
    "# 3) Saving your files with UTF-8 encoding\n",
    "\n",
    "Save a version of the police killings dataset to CSV with UTF-8 encoding.  Your answer will be marked correct after saving this file.  \n",
    "\n",
    "Note: When using the `to_csv()` method, supply only the name of the file (e.g., `\"my_file.csv\"`).  This saves the file at the filepath `\"/kaggle/working/my_file.csv\"`."
   ]
  },
  {
   "cell_type": "code",
   "execution_count": 9,
   "id": "2cc15d31",
   "metadata": {
    "execution": {
     "iopub.execute_input": "2021-07-14T14:57:50.125393Z",
     "iopub.status.busy": "2021-07-14T14:57:50.124700Z",
     "iopub.status.idle": "2021-07-14T14:57:50.165619Z",
     "shell.execute_reply": "2021-07-14T14:57:50.166146Z",
     "shell.execute_reply.started": "2021-07-12T07:11:02.430047Z"
    },
    "papermill": {
     "duration": 0.063769,
     "end_time": "2021-07-14T14:57:50.166343",
     "exception": false,
     "start_time": "2021-07-14T14:57:50.102574",
     "status": "completed"
    },
    "tags": []
   },
   "outputs": [
    {
     "data": {
      "application/javascript": [
       "parent.postMessage({\"jupyterEvent\": \"custom.exercise_interaction\", \"data\": {\"outcomeType\": 1, \"valueTowardsCompletion\": 0.3333333333333333, \"interactionType\": 1, \"questionType\": 2, \"questionId\": \"3_SaveCSV\", \"learnToolsVersion\": \"0.3.4\", \"failureMessage\": \"\", \"exceptionClass\": \"\", \"trace\": \"\"}}, \"*\")"
      ],
      "text/plain": [
       "<IPython.core.display.Javascript object>"
      ]
     },
     "metadata": {},
     "output_type": "display_data"
    },
    {
     "data": {
      "text/markdown": [
       "<span style=\"color:#33cc33\">Correct</span>"
      ],
      "text/plain": [
       "Correct"
      ]
     },
     "metadata": {},
     "output_type": "display_data"
    }
   ],
   "source": [
    "# TODO: Save the police killings dataset to CSV\n",
    "police_killings.to_csv('police_killings.csv')\n",
    "\n",
    "# Check your answer\n",
    "q3.check()"
   ]
  },
  {
   "cell_type": "code",
   "execution_count": 10,
   "id": "fe4a26e2",
   "metadata": {
    "execution": {
     "iopub.execute_input": "2021-07-14T14:57:50.211379Z",
     "iopub.status.busy": "2021-07-14T14:57:50.210678Z",
     "iopub.status.idle": "2021-07-14T14:57:50.214748Z",
     "shell.execute_reply": "2021-07-14T14:57:50.214051Z"
    },
    "papermill": {
     "duration": 0.028204,
     "end_time": "2021-07-14T14:57:50.214935",
     "exception": false,
     "start_time": "2021-07-14T14:57:50.186731",
     "status": "completed"
    },
    "tags": []
   },
   "outputs": [],
   "source": [
    "# Lines below will give you a hint or solution code\n",
    "#q3.hint()\n",
    "#q3.solution()"
   ]
  },
  {
   "cell_type": "markdown",
   "id": "e730203b",
   "metadata": {
    "papermill": {
     "duration": 0.021165,
     "end_time": "2021-07-14T14:57:50.257254",
     "exception": false,
     "start_time": "2021-07-14T14:57:50.236089",
     "status": "completed"
    },
    "tags": []
   },
   "source": [
    "# (Optional) More practice\n",
    "\n",
    "Check out [this dataset of files in different character encodings](https://www.kaggle.com/rtatman/character-encoding-examples). Can you read in all the files with their original encodings and them save them out as UTF-8 files?\n",
    "\n",
    "If you have a file that's in UTF-8 but has just a couple of weird-looking characters in it, you can try out the [ftfy module](https://ftfy.readthedocs.io/en/latest/#) and see if it helps. \n",
    "\n",
    "# Keep going\n",
    "\n",
    "In the final lesson, learn how to [**clean up inconsistent text entries**](https://www.kaggle.com/alexisbcook/inconsistent-data-entry) in your dataset."
   ]
  },
  {
   "cell_type": "markdown",
   "id": "762b4d63",
   "metadata": {
    "papermill": {
     "duration": 0.019851,
     "end_time": "2021-07-14T14:57:50.297247",
     "exception": false,
     "start_time": "2021-07-14T14:57:50.277396",
     "status": "completed"
    },
    "tags": []
   },
   "source": [
    "---\n",
    "\n",
    "\n",
    "\n",
    "\n",
    "*Have questions or comments? Visit the [Learn Discussion forum](https://www.kaggle.com/learn-forum/172650) to chat with other Learners.*"
   ]
  }
 ],
 "metadata": {
  "kernelspec": {
   "display_name": "Python 3",
   "language": "python",
   "name": "python3"
  },
  "language_info": {
   "codemirror_mode": {
    "name": "ipython",
    "version": 3
   },
   "file_extension": ".py",
   "mimetype": "text/x-python",
   "name": "python",
   "nbconvert_exporter": "python",
   "pygments_lexer": "ipython3",
   "version": "3.7.10"
  },
  "papermill": {
   "default_parameters": {},
   "duration": 10.808295,
   "end_time": "2021-07-14T14:57:51.872046",
   "environment_variables": {},
   "exception": null,
   "input_path": "__notebook__.ipynb",
   "output_path": "__notebook__.ipynb",
   "parameters": {},
   "start_time": "2021-07-14T14:57:41.063751",
   "version": "2.3.3"
  }
 },
 "nbformat": 4,
 "nbformat_minor": 5
}
