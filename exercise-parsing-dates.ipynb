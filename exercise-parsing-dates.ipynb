{
 "cells": [
  {
   "cell_type": "markdown",
   "id": "ad9b4fb7",
   "metadata": {
    "papermill": {
     "duration": 0.016706,
     "end_time": "2021-07-14T14:57:34.188222",
     "exception": false,
     "start_time": "2021-07-14T14:57:34.171516",
     "status": "completed"
    },
    "tags": []
   },
   "source": [
    "**This notebook is an exercise in the [Data Cleaning](https://www.kaggle.com/learn/data-cleaning) course.  You can reference the tutorial at [this link](https://www.kaggle.com/alexisbcook/parsing-dates).**\n",
    "\n",
    "---\n"
   ]
  },
  {
   "cell_type": "markdown",
   "id": "dd374b61",
   "metadata": {
    "papermill": {
     "duration": 0.015843,
     "end_time": "2021-07-14T14:57:34.222382",
     "exception": false,
     "start_time": "2021-07-14T14:57:34.206539",
     "status": "completed"
    },
    "tags": []
   },
   "source": [
    "In this exercise, you'll apply what you learned in the **Parsing dates** tutorial.\n",
    "\n",
    "# Setup\n",
    "\n",
    "The questions below will give you feedback on your work. Run the following cell to set up the feedback system."
   ]
  },
  {
   "cell_type": "code",
   "execution_count": 1,
   "id": "43ca3910",
   "metadata": {
    "execution": {
     "iopub.execute_input": "2021-07-14T14:57:34.265802Z",
     "iopub.status.busy": "2021-07-14T14:57:34.265239Z",
     "iopub.status.idle": "2021-07-14T14:57:35.496988Z",
     "shell.execute_reply": "2021-07-14T14:57:35.497548Z",
     "shell.execute_reply.started": "2021-07-07T13:16:21.421411Z"
    },
    "papermill": {
     "duration": 1.259394,
     "end_time": "2021-07-14T14:57:35.497837",
     "exception": false,
     "start_time": "2021-07-14T14:57:34.238443",
     "status": "completed"
    },
    "tags": []
   },
   "outputs": [
    {
     "name": "stdout",
     "output_type": "stream",
     "text": [
      "Setup Complete\n"
     ]
    }
   ],
   "source": [
    "from learntools.core import binder\n",
    "binder.bind(globals())\n",
    "from learntools.data_cleaning.ex3 import *\n",
    "print(\"Setup Complete\")"
   ]
  },
  {
   "cell_type": "markdown",
   "id": "e9e65a9a",
   "metadata": {
    "papermill": {
     "duration": 0.01584,
     "end_time": "2021-07-14T14:57:35.530532",
     "exception": false,
     "start_time": "2021-07-14T14:57:35.514692",
     "status": "completed"
    },
    "tags": []
   },
   "source": [
    "# Get our environment set up\n",
    "\n",
    "The first thing we'll need to do is load in the libraries and dataset we'll be using. We'll be working with a dataset containing information on earthquakes that occured between 1965 and 2016."
   ]
  },
  {
   "cell_type": "code",
   "execution_count": 2,
   "id": "bb9936be",
   "metadata": {
    "execution": {
     "iopub.execute_input": "2021-07-14T14:57:35.567241Z",
     "iopub.status.busy": "2021-07-14T14:57:35.566588Z",
     "iopub.status.idle": "2021-07-14T14:57:35.650914Z",
     "shell.execute_reply": "2021-07-14T14:57:35.651392Z",
     "shell.execute_reply.started": "2021-07-07T13:33:00.972213Z"
    },
    "papermill": {
     "duration": 0.104518,
     "end_time": "2021-07-14T14:57:35.651583",
     "exception": false,
     "start_time": "2021-07-14T14:57:35.547065",
     "status": "completed"
    },
    "tags": []
   },
   "outputs": [],
   "source": [
    "# modules we'll use\n",
    "import pandas as pd\n",
    "import numpy as np\n",
    "import seaborn as sns\n",
    "import datetime\n",
    "\n",
    "# read in our data\n",
    "earthquakes = pd.read_csv(\"../input/earthquake-database/database.csv\")\n",
    "\n",
    "# set seed for reproducibility\n",
    "np.random.seed(0)"
   ]
  },
  {
   "cell_type": "markdown",
   "id": "b1048047",
   "metadata": {
    "papermill": {
     "duration": 0.017206,
     "end_time": "2021-07-14T14:57:35.685231",
     "exception": false,
     "start_time": "2021-07-14T14:57:35.668025",
     "status": "completed"
    },
    "tags": []
   },
   "source": [
    "# 1) Check the data type of our date column\n",
    "\n",
    "You'll be working with the \"Date\" column from the `earthquakes` dataframe.  Investigate this column now: does it look like it contains dates?  What is the dtype of the column?"
   ]
  },
  {
   "cell_type": "code",
   "execution_count": 3,
   "id": "9b0adab0",
   "metadata": {
    "execution": {
     "iopub.execute_input": "2021-07-14T14:57:35.730672Z",
     "iopub.status.busy": "2021-07-14T14:57:35.729853Z",
     "iopub.status.idle": "2021-07-14T14:57:35.733666Z",
     "shell.execute_reply": "2021-07-14T14:57:35.734152Z",
     "shell.execute_reply.started": "2021-07-07T13:33:04.581296Z"
    },
    "papermill": {
     "duration": 0.032718,
     "end_time": "2021-07-14T14:57:35.734326",
     "exception": false,
     "start_time": "2021-07-14T14:57:35.701608",
     "status": "completed"
    },
    "tags": []
   },
   "outputs": [
    {
     "data": {
      "text/plain": [
       "0        01/02/1965\n",
       "1        01/04/1965\n",
       "2        01/05/1965\n",
       "3        01/08/1965\n",
       "4        01/09/1965\n",
       "            ...    \n",
       "23407    12/28/2016\n",
       "23408    12/28/2016\n",
       "23409    12/28/2016\n",
       "23410    12/29/2016\n",
       "23411    12/30/2016\n",
       "Name: Date, Length: 23412, dtype: object"
      ]
     },
     "execution_count": 3,
     "metadata": {},
     "output_type": "execute_result"
    }
   ],
   "source": [
    "# TODO: Your code here!\n",
    "earthquakes.Date"
   ]
  },
  {
   "cell_type": "markdown",
   "id": "26a2bfb8",
   "metadata": {
    "papermill": {
     "duration": 0.019803,
     "end_time": "2021-07-14T14:57:35.776824",
     "exception": false,
     "start_time": "2021-07-14T14:57:35.757021",
     "status": "completed"
    },
    "tags": []
   },
   "source": [
    "Once you have answered the question above, run the code cell below to get credit for your work."
   ]
  },
  {
   "cell_type": "code",
   "execution_count": 4,
   "id": "d07d00e2",
   "metadata": {
    "execution": {
     "iopub.execute_input": "2021-07-14T14:57:35.814552Z",
     "iopub.status.busy": "2021-07-14T14:57:35.813623Z",
     "iopub.status.idle": "2021-07-14T14:57:35.820457Z",
     "shell.execute_reply": "2021-07-14T14:57:35.820847Z",
     "shell.execute_reply.started": "2021-07-07T13:33:07.56942Z"
    },
    "papermill": {
     "duration": 0.02656,
     "end_time": "2021-07-14T14:57:35.821063",
     "exception": false,
     "start_time": "2021-07-14T14:57:35.794503",
     "status": "completed"
    },
    "tags": []
   },
   "outputs": [
    {
     "data": {
      "application/javascript": [
       "parent.postMessage({\"jupyterEvent\": \"custom.exercise_interaction\", \"data\": {\"outcomeType\": 1, \"valueTowardsCompletion\": 0.25, \"interactionType\": 1, \"questionType\": 4, \"questionId\": \"1_CheckDtype\", \"learnToolsVersion\": \"0.3.4\", \"failureMessage\": \"\", \"exceptionClass\": \"\", \"trace\": \"\"}}, \"*\")"
      ],
      "text/plain": [
       "<IPython.core.display.Javascript object>"
      ]
     },
     "metadata": {},
     "output_type": "display_data"
    },
    {
     "data": {
      "text/markdown": [
       "<span style=\"color:#33cc33\">Correct:</span> \n",
       "\n",
       "The \"Date\" column in the `earthquakes` DataFrame does have dates.  The dtype is \"object\"."
      ],
      "text/plain": [
       "Correct: \n",
       "\n",
       "The \"Date\" column in the `earthquakes` DataFrame does have dates.  The dtype is \"object\"."
      ]
     },
     "metadata": {},
     "output_type": "display_data"
    }
   ],
   "source": [
    "# Check your answer (Run this code cell to receive credit!)\n",
    "q1.check()"
   ]
  },
  {
   "cell_type": "code",
   "execution_count": 5,
   "id": "7ce38c17",
   "metadata": {
    "execution": {
     "iopub.execute_input": "2021-07-14T14:57:35.861457Z",
     "iopub.status.busy": "2021-07-14T14:57:35.860843Z",
     "iopub.status.idle": "2021-07-14T14:57:35.863641Z",
     "shell.execute_reply": "2021-07-14T14:57:35.864158Z"
    },
    "papermill": {
     "duration": 0.022776,
     "end_time": "2021-07-14T14:57:35.864339",
     "exception": false,
     "start_time": "2021-07-14T14:57:35.841563",
     "status": "completed"
    },
    "tags": []
   },
   "outputs": [],
   "source": [
    "# Line below will give you a hint\n",
    "#q1.hint()"
   ]
  },
  {
   "cell_type": "markdown",
   "id": "0aabf15d",
   "metadata": {
    "papermill": {
     "duration": 0.016806,
     "end_time": "2021-07-14T14:57:35.898301",
     "exception": false,
     "start_time": "2021-07-14T14:57:35.881495",
     "status": "completed"
    },
    "tags": []
   },
   "source": [
    "# 2) Convert our date columns to datetime\n",
    "\n",
    "Most of the entries in the \"Date\" column follow the same format: \"month/day/four-digit year\".  However, the entry at index 3378 follows a completely different pattern.  Run the code cell below to see this."
   ]
  },
  {
   "cell_type": "code",
   "execution_count": 6,
   "id": "cfc46a7b",
   "metadata": {
    "execution": {
     "iopub.execute_input": "2021-07-14T14:57:35.935588Z",
     "iopub.status.busy": "2021-07-14T14:57:35.934962Z",
     "iopub.status.idle": "2021-07-14T14:57:36.022115Z",
     "shell.execute_reply": "2021-07-14T14:57:36.019986Z",
     "shell.execute_reply.started": "2021-07-07T13:33:11.662786Z"
    },
    "papermill": {
     "duration": 0.107013,
     "end_time": "2021-07-14T14:57:36.022441",
     "exception": true,
     "start_time": "2021-07-14T14:57:35.915428",
     "status": "failed"
    },
    "tags": []
   },
   "outputs": [
    {
     "ename": "ValueError",
     "evalue": "to assemble mappings requires at least that [year, month, day] be specified: [day,month,year] is missing",
     "output_type": "error",
     "traceback": [
      "\u001b[0;31m---------------------------------------------------------------------------\u001b[0m",
      "\u001b[0;31mValueError\u001b[0m                                Traceback (most recent call last)",
      "\u001b[0;32m<ipython-input-6-934d881cca04>\u001b[0m in \u001b[0;36m<module>\u001b[0;34m\u001b[0m\n\u001b[0;32m----> 1\u001b[0;31m \u001b[0mearthquakes\u001b[0m\u001b[0;34m[\u001b[0m\u001b[0;36m3378\u001b[0m\u001b[0;34m:\u001b[0m\u001b[0;36m3383\u001b[0m\u001b[0;34m]\u001b[0m  \u001b[0;34m=\u001b[0m \u001b[0mpd\u001b[0m\u001b[0;34m.\u001b[0m\u001b[0mto_datetime\u001b[0m\u001b[0;34m(\u001b[0m\u001b[0mearthquakes\u001b[0m\u001b[0;34m[\u001b[0m\u001b[0;36m3378\u001b[0m\u001b[0;34m:\u001b[0m\u001b[0;36m3383\u001b[0m\u001b[0;34m]\u001b[0m \u001b[0;34m,\u001b[0m\u001b[0mformat\u001b[0m \u001b[0;34m=\u001b[0m \u001b[0;34m'%m/%d/%y'\u001b[0m\u001b[0;34m)\u001b[0m\u001b[0;34m\u001b[0m\u001b[0;34m\u001b[0m\u001b[0m\n\u001b[0m",
      "\u001b[0;32m/opt/conda/lib/python3.7/site-packages/pandas/core/tools/datetimes.py\u001b[0m in \u001b[0;36mto_datetime\u001b[0;34m(arg, errors, dayfirst, yearfirst, utc, format, exact, unit, infer_datetime_format, origin, cache)\u001b[0m\n\u001b[1;32m    806\u001b[0m             \u001b[0mresult\u001b[0m \u001b[0;34m=\u001b[0m \u001b[0marg\u001b[0m\u001b[0;34m.\u001b[0m\u001b[0m_constructor\u001b[0m\u001b[0;34m(\u001b[0m\u001b[0mvalues\u001b[0m\u001b[0;34m,\u001b[0m \u001b[0mindex\u001b[0m\u001b[0;34m=\u001b[0m\u001b[0marg\u001b[0m\u001b[0;34m.\u001b[0m\u001b[0mindex\u001b[0m\u001b[0;34m,\u001b[0m \u001b[0mname\u001b[0m\u001b[0;34m=\u001b[0m\u001b[0marg\u001b[0m\u001b[0;34m.\u001b[0m\u001b[0mname\u001b[0m\u001b[0;34m)\u001b[0m\u001b[0;34m\u001b[0m\u001b[0;34m\u001b[0m\u001b[0m\n\u001b[1;32m    807\u001b[0m     \u001b[0;32melif\u001b[0m \u001b[0misinstance\u001b[0m\u001b[0;34m(\u001b[0m\u001b[0marg\u001b[0m\u001b[0;34m,\u001b[0m \u001b[0;34m(\u001b[0m\u001b[0mABCDataFrame\u001b[0m\u001b[0;34m,\u001b[0m \u001b[0mabc\u001b[0m\u001b[0;34m.\u001b[0m\u001b[0mMutableMapping\u001b[0m\u001b[0;34m)\u001b[0m\u001b[0;34m)\u001b[0m\u001b[0;34m:\u001b[0m\u001b[0;34m\u001b[0m\u001b[0;34m\u001b[0m\u001b[0m\n\u001b[0;32m--> 808\u001b[0;31m         \u001b[0mresult\u001b[0m \u001b[0;34m=\u001b[0m \u001b[0m_assemble_from_unit_mappings\u001b[0m\u001b[0;34m(\u001b[0m\u001b[0marg\u001b[0m\u001b[0;34m,\u001b[0m \u001b[0merrors\u001b[0m\u001b[0;34m,\u001b[0m \u001b[0mtz\u001b[0m\u001b[0;34m)\u001b[0m\u001b[0;34m\u001b[0m\u001b[0;34m\u001b[0m\u001b[0m\n\u001b[0m\u001b[1;32m    809\u001b[0m     \u001b[0;32melif\u001b[0m \u001b[0misinstance\u001b[0m\u001b[0;34m(\u001b[0m\u001b[0marg\u001b[0m\u001b[0;34m,\u001b[0m \u001b[0mIndex\u001b[0m\u001b[0;34m)\u001b[0m\u001b[0;34m:\u001b[0m\u001b[0;34m\u001b[0m\u001b[0;34m\u001b[0m\u001b[0m\n\u001b[1;32m    810\u001b[0m         \u001b[0mcache_array\u001b[0m \u001b[0;34m=\u001b[0m \u001b[0m_maybe_cache\u001b[0m\u001b[0;34m(\u001b[0m\u001b[0marg\u001b[0m\u001b[0;34m,\u001b[0m \u001b[0mformat\u001b[0m\u001b[0;34m,\u001b[0m \u001b[0mcache\u001b[0m\u001b[0;34m,\u001b[0m \u001b[0mconvert_listlike\u001b[0m\u001b[0;34m)\u001b[0m\u001b[0;34m\u001b[0m\u001b[0;34m\u001b[0m\u001b[0m\n",
      "\u001b[0;32m/opt/conda/lib/python3.7/site-packages/pandas/core/tools/datetimes.py\u001b[0m in \u001b[0;36m_assemble_from_unit_mappings\u001b[0;34m(arg, errors, tz)\u001b[0m\n\u001b[1;32m    906\u001b[0m         \u001b[0m_required\u001b[0m \u001b[0;34m=\u001b[0m \u001b[0;34m\",\"\u001b[0m\u001b[0;34m.\u001b[0m\u001b[0mjoin\u001b[0m\u001b[0;34m(\u001b[0m\u001b[0mreq\u001b[0m\u001b[0;34m)\u001b[0m\u001b[0;34m\u001b[0m\u001b[0;34m\u001b[0m\u001b[0m\n\u001b[1;32m    907\u001b[0m         raise ValueError(\n\u001b[0;32m--> 908\u001b[0;31m             \u001b[0;34m\"to assemble mappings requires at least that \"\u001b[0m\u001b[0;34m\u001b[0m\u001b[0;34m\u001b[0m\u001b[0m\n\u001b[0m\u001b[1;32m    909\u001b[0m             \u001b[0;34mf\"[year, month, day] be specified: [{_required}] is missing\"\u001b[0m\u001b[0;34m\u001b[0m\u001b[0;34m\u001b[0m\u001b[0m\n\u001b[1;32m    910\u001b[0m         )\n",
      "\u001b[0;31mValueError\u001b[0m: to assemble mappings requires at least that [year, month, day] be specified: [day,month,year] is missing"
     ]
    }
   ],
   "source": [
    "earthquakes[3378:3383]  = pd.to_datetime(earthquakes[3378:3383] ,format = '%m/%d/%y')"
   ]
  },
  {
   "cell_type": "markdown",
   "id": "8c193220",
   "metadata": {
    "papermill": {
     "duration": null,
     "end_time": null,
     "exception": null,
     "start_time": null,
     "status": "pending"
    },
    "tags": []
   },
   "source": [
    "This does appear to be an issue with data entry: ideally, all entries in the column have the same format.  We can get an idea of how widespread this issue is by checking the length of each entry in the \"Date\" column."
   ]
  },
  {
   "cell_type": "code",
   "execution_count": null,
   "id": "6c6847e4",
   "metadata": {
    "execution": {
     "iopub.execute_input": "2021-07-07T13:33:15.590211Z",
     "iopub.status.busy": "2021-07-07T13:33:15.589885Z",
     "iopub.status.idle": "2021-07-07T13:33:15.606807Z",
     "shell.execute_reply": "2021-07-07T13:33:15.605795Z",
     "shell.execute_reply.started": "2021-07-07T13:33:15.590183Z"
    },
    "papermill": {
     "duration": null,
     "end_time": null,
     "exception": null,
     "start_time": null,
     "status": "pending"
    },
    "tags": []
   },
   "outputs": [],
   "source": [
    "date_lengths = earthquakes.Date.str.len()\n",
    "date_lengths.value_counts()"
   ]
  },
  {
   "cell_type": "markdown",
   "id": "d5f1c476",
   "metadata": {
    "papermill": {
     "duration": null,
     "end_time": null,
     "exception": null,
     "start_time": null,
     "status": "pending"
    },
    "tags": []
   },
   "source": [
    "Looks like there are two more rows that has a date in a different format.  Run the code cell below to obtain the indices corresponding to those rows and print the data."
   ]
  },
  {
   "cell_type": "code",
   "execution_count": null,
   "id": "1c8ac82c",
   "metadata": {
    "execution": {
     "iopub.execute_input": "2021-07-07T13:33:17.971927Z",
     "iopub.status.busy": "2021-07-07T13:33:17.971428Z",
     "iopub.status.idle": "2021-07-07T13:33:18.004001Z",
     "shell.execute_reply": "2021-07-07T13:33:18.002796Z",
     "shell.execute_reply.started": "2021-07-07T13:33:17.971895Z"
    },
    "papermill": {
     "duration": null,
     "end_time": null,
     "exception": null,
     "start_time": null,
     "status": "pending"
    },
    "tags": []
   },
   "outputs": [],
   "source": [
    "indices = np.where([date_lengths == 24])[1]\n",
    "print('Indices with corrupted data:', indices)\n",
    "earthquakes.loc[indices]"
   ]
  },
  {
   "cell_type": "markdown",
   "id": "4efdda0b",
   "metadata": {
    "papermill": {
     "duration": null,
     "end_time": null,
     "exception": null,
     "start_time": null,
     "status": "pending"
    },
    "tags": []
   },
   "source": [
    "Given all of this information, it's your turn to create a new column \"date_parsed\" in the `earthquakes` dataset that has correctly parsed dates in it.  \n",
    "\n",
    "**Note**: When completing this problem, you are allowed to (but are not required to) amend the entries in the \"Date\" and \"Time\" columns.  Do not remove any rows from the dataset."
   ]
  },
  {
   "cell_type": "code",
   "execution_count": null,
   "id": "4738d773",
   "metadata": {
    "execution": {
     "iopub.execute_input": "2021-07-07T13:33:21.814193Z",
     "iopub.status.busy": "2021-07-07T13:33:21.81385Z",
     "iopub.status.idle": "2021-07-07T13:33:21.860484Z",
     "shell.execute_reply": "2021-07-07T13:33:21.859636Z",
     "shell.execute_reply.started": "2021-07-07T13:33:21.814164Z"
    },
    "papermill": {
     "duration": null,
     "end_time": null,
     "exception": null,
     "start_time": null,
     "status": "pending"
    },
    "tags": []
   },
   "outputs": [],
   "source": [
    "# TODO: Your code here\n",
    "\n",
    "\n",
    "earthquakes.loc[3378, \"Date\"] = \"02/23/1975\"\n",
    "earthquakes.loc[7512, \"Date\"] = \"04/28/1985\"\n",
    "earthquakes.loc[20650, \"Date\"] = \"03/13/2011\"\n",
    "earthquakes['date_parsed'] = pd.to_datetime(earthquakes['Date'], format=\"%m/%d/%Y\")\n",
    "# Check your answer\n",
    "q2.check()"
   ]
  },
  {
   "cell_type": "code",
   "execution_count": null,
   "id": "872f3ed7",
   "metadata": {
    "execution": {
     "iopub.execute_input": "2021-07-07T13:33:30.345188Z",
     "iopub.status.busy": "2021-07-07T13:33:30.344827Z",
     "iopub.status.idle": "2021-07-07T13:33:30.349273Z",
     "shell.execute_reply": "2021-07-07T13:33:30.348074Z",
     "shell.execute_reply.started": "2021-07-07T13:33:30.345154Z"
    },
    "papermill": {
     "duration": null,
     "end_time": null,
     "exception": null,
     "start_time": null,
     "status": "pending"
    },
    "tags": []
   },
   "outputs": [],
   "source": [
    "# Lines below will give you a hint or solution code\n",
    "#q2.hint()\n",
    "#q2.solution()"
   ]
  },
  {
   "cell_type": "markdown",
   "id": "bcf3b515",
   "metadata": {
    "papermill": {
     "duration": null,
     "end_time": null,
     "exception": null,
     "start_time": null,
     "status": "pending"
    },
    "tags": []
   },
   "source": [
    "# 3) Select the day of the month\n",
    "\n",
    "Create a Pandas Series `day_of_month_earthquakes` containing the day of the month from the \"date_parsed\" column."
   ]
  },
  {
   "cell_type": "code",
   "execution_count": null,
   "id": "149dbdfb",
   "metadata": {
    "execution": {
     "iopub.execute_input": "2021-07-07T13:34:12.778444Z",
     "iopub.status.busy": "2021-07-07T13:34:12.778114Z",
     "iopub.status.idle": "2021-07-07T13:34:12.788964Z",
     "shell.execute_reply": "2021-07-07T13:34:12.788067Z",
     "shell.execute_reply.started": "2021-07-07T13:34:12.778415Z"
    },
    "papermill": {
     "duration": null,
     "end_time": null,
     "exception": null,
     "start_time": null,
     "status": "pending"
    },
    "tags": []
   },
   "outputs": [],
   "source": [
    "# try to get the day of the month from the date column\n",
    "day_of_month_earthquakes = earthquakes['date_parsed'].dt.day\n",
    "\n",
    "# Check your answer\n",
    "q3.check()"
   ]
  },
  {
   "cell_type": "code",
   "execution_count": null,
   "id": "527bcdb9",
   "metadata": {
    "papermill": {
     "duration": null,
     "end_time": null,
     "exception": null,
     "start_time": null,
     "status": "pending"
    },
    "tags": []
   },
   "outputs": [],
   "source": [
    "# Lines below will give you a hint or solution code\n",
    "#q3.hint()\n",
    "#q3.solution()"
   ]
  },
  {
   "cell_type": "markdown",
   "id": "d85bf9bd",
   "metadata": {
    "papermill": {
     "duration": null,
     "end_time": null,
     "exception": null,
     "start_time": null,
     "status": "pending"
    },
    "tags": []
   },
   "source": [
    "# 4) Plot the day of the month to check the date parsing\n",
    "\n",
    "Plot the days of the month from your earthquake dataset."
   ]
  },
  {
   "cell_type": "code",
   "execution_count": null,
   "id": "c2dae748",
   "metadata": {
    "execution": {
     "iopub.execute_input": "2021-07-07T13:36:01.323955Z",
     "iopub.status.busy": "2021-07-07T13:36:01.32356Z",
     "iopub.status.idle": "2021-07-07T13:36:01.498659Z",
     "shell.execute_reply": "2021-07-07T13:36:01.497714Z",
     "shell.execute_reply.started": "2021-07-07T13:36:01.323922Z"
    },
    "papermill": {
     "duration": null,
     "end_time": null,
     "exception": null,
     "start_time": null,
     "status": "pending"
    },
    "tags": []
   },
   "outputs": [],
   "source": [
    "# TODO: Your code here!\n",
    "day_of_month_earthquakes = day_of_month_earthquakes.dropna()\n",
    "sns.distplot(day_of_month_earthquakes,bins=31,kde=False)"
   ]
  },
  {
   "cell_type": "markdown",
   "id": "0cb8bdc9",
   "metadata": {
    "papermill": {
     "duration": null,
     "end_time": null,
     "exception": null,
     "start_time": null,
     "status": "pending"
    },
    "tags": []
   },
   "source": [
    "Does the graph make sense to you?"
   ]
  },
  {
   "cell_type": "code",
   "execution_count": null,
   "id": "7e0a0cd5",
   "metadata": {
    "execution": {
     "iopub.execute_input": "2021-07-07T13:36:14.576275Z",
     "iopub.status.busy": "2021-07-07T13:36:14.575808Z",
     "iopub.status.idle": "2021-07-07T13:36:14.582536Z",
     "shell.execute_reply": "2021-07-07T13:36:14.581756Z",
     "shell.execute_reply.started": "2021-07-07T13:36:14.576244Z"
    },
    "papermill": {
     "duration": null,
     "end_time": null,
     "exception": null,
     "start_time": null,
     "status": "pending"
    },
    "tags": []
   },
   "outputs": [],
   "source": [
    "# Check your answer (Run this code cell to receive credit!)\n",
    "q4.check()"
   ]
  },
  {
   "cell_type": "code",
   "execution_count": null,
   "id": "ac643cc4",
   "metadata": {
    "papermill": {
     "duration": null,
     "end_time": null,
     "exception": null,
     "start_time": null,
     "status": "pending"
    },
    "tags": []
   },
   "outputs": [],
   "source": [
    "# Line below will give you a hint\n",
    "#q4.hint()"
   ]
  },
  {
   "cell_type": "markdown",
   "id": "4040cae7",
   "metadata": {
    "papermill": {
     "duration": null,
     "end_time": null,
     "exception": null,
     "start_time": null,
     "status": "pending"
    },
    "tags": []
   },
   "source": [
    "# (Optional) Bonus Challenge\n",
    "\n",
    "For an extra challenge, you'll work with a [Smithsonian dataset](https://www.kaggle.com/smithsonian/volcanic-eruptions) that documents Earth's volcanoes and their eruptive history over the past 10,000 years \n",
    "\n",
    "Run the next code cell to load the data."
   ]
  },
  {
   "cell_type": "code",
   "execution_count": null,
   "id": "6a26e243",
   "metadata": {
    "execution": {
     "iopub.execute_input": "2021-07-07T13:36:28.51671Z",
     "iopub.status.busy": "2021-07-07T13:36:28.516232Z",
     "iopub.status.idle": "2021-07-07T13:36:28.543075Z",
     "shell.execute_reply": "2021-07-07T13:36:28.542222Z",
     "shell.execute_reply.started": "2021-07-07T13:36:28.516656Z"
    },
    "papermill": {
     "duration": null,
     "end_time": null,
     "exception": null,
     "start_time": null,
     "status": "pending"
    },
    "tags": []
   },
   "outputs": [],
   "source": [
    "volcanos = pd.read_csv(\"../input/volcanic-eruptions/database.csv\")"
   ]
  },
  {
   "cell_type": "markdown",
   "id": "493b6cbe",
   "metadata": {
    "papermill": {
     "duration": null,
     "end_time": null,
     "exception": null,
     "start_time": null,
     "status": "pending"
    },
    "tags": []
   },
   "source": [
    "Try parsing the column \"Last Known Eruption\" from the `volcanos` dataframe. This column contains a mixture of text (\"Unknown\") and years both before the common era (BCE, also known as BC) and in the common era (CE, also known as AD)."
   ]
  },
  {
   "cell_type": "code",
   "execution_count": null,
   "id": "dde8f6f6",
   "metadata": {
    "execution": {
     "iopub.execute_input": "2021-07-07T13:36:32.201565Z",
     "iopub.status.busy": "2021-07-07T13:36:32.201117Z",
     "iopub.status.idle": "2021-07-07T13:36:32.209916Z",
     "shell.execute_reply": "2021-07-07T13:36:32.208968Z",
     "shell.execute_reply.started": "2021-07-07T13:36:32.201521Z"
    },
    "papermill": {
     "duration": null,
     "end_time": null,
     "exception": null,
     "start_time": null,
     "status": "pending"
    },
    "tags": []
   },
   "outputs": [],
   "source": [
    "volcanos['Last Known Eruption'].sample(5)"
   ]
  },
  {
   "cell_type": "markdown",
   "id": "5ef91b28",
   "metadata": {
    "papermill": {
     "duration": null,
     "end_time": null,
     "exception": null,
     "start_time": null,
     "status": "pending"
    },
    "tags": []
   },
   "source": [
    "# (Optional) More practice\n",
    "\n",
    "If you're interested in graphing time series, [check out this tutorial](https://www.kaggle.com/residentmario/time-series-plotting-optional).\n",
    "\n",
    "You can also look into passing columns that you know have dates in them  the `parse_dates` argument in `read_csv`. (The documention [is here](https://pandas.pydata.org/pandas-docs/stable/generated/pandas.read_csv.html).) Do note that this method can be very slow, but depending on your needs it may sometimes be handy to use.\n",
    "\n",
    "# Keep going\n",
    "\n",
    "In the next lesson, learn how to [**work with character encodings**](https://www.kaggle.com/alexisbcook/character-encodings)."
   ]
  },
  {
   "cell_type": "markdown",
   "id": "420e6b07",
   "metadata": {
    "papermill": {
     "duration": null,
     "end_time": null,
     "exception": null,
     "start_time": null,
     "status": "pending"
    },
    "tags": []
   },
   "source": [
    "---\n",
    "\n",
    "\n",
    "\n",
    "\n",
    "*Have questions or comments? Visit the [Learn Discussion forum](https://www.kaggle.com/learn-forum/172650) to chat with other Learners.*"
   ]
  }
 ],
 "metadata": {
  "kernelspec": {
   "display_name": "Python 3",
   "language": "python",
   "name": "python3"
  },
  "language_info": {
   "codemirror_mode": {
    "name": "ipython",
    "version": 3
   },
   "file_extension": ".py",
   "mimetype": "text/x-python",
   "name": "python",
   "nbconvert_exporter": "python",
   "pygments_lexer": "ipython3",
   "version": "3.7.10"
  },
  "papermill": {
   "default_parameters": {},
   "duration": 10.830525,
   "end_time": "2021-07-14T14:57:37.719311",
   "environment_variables": {},
   "exception": true,
   "input_path": "__notebook__.ipynb",
   "output_path": "__notebook__.ipynb",
   "parameters": {},
   "start_time": "2021-07-14T14:57:26.888786",
   "version": "2.3.3"
  }
 },
 "nbformat": 4,
 "nbformat_minor": 5
}
